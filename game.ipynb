{
 "cells": [
  {
   "cell_type": "code",
   "execution_count": 2,
   "metadata": {},
   "outputs": [
    {
     "name": "stdout",
     "output_type": "stream",
     "text": [
      "you:  0   -   exit\n",
      "bot:  0   -   paper\n",
      "You loose\n",
      "you:  0   -   exit\n",
      "bot:  0   -   paper\n"
     ]
    }
   ],
   "source": [
    "import random\n",
    " \n",
    "game=[\"rock\",\"paper\",\"scissor\"]\n",
    "\n",
    "bot=''\n",
    "\n",
    "you_point=0\n",
    "bot_point=0 \n",
    "\n",
    "game_condition=True\n",
    "\n",
    "while(game_condition):\n",
    "\n",
    " you = input(\"choose a move (rock,paper,scissor): \") \n",
    "\n",
    " chance=random.randint(0,2)\n",
    " bot=game[chance]\n",
    "\n",
    " if you==\"exit\":\n",
    "    game_condition=False\n",
    "\n",
    " if you==\"scissor\" and bot=='paper':\n",
    "  you_point=you_point+1\n",
    "\n",
    " elif you==\"scissor\" and bot=='rock':\n",
    "   bot_point=bot_point+1\n",
    "\n",
    " elif you==\"paper\" and bot=='rock':\n",
    "    you_point=you_point+1\n",
    "\n",
    " elif you==\"paper\" and bot=='scissor':\n",
    "     bot_point=bot_point+1 \n",
    "\n",
    " elif you==\"rock\" and bot=='paper':\n",
    "          bot_point=bot_point+1\n",
    "\n",
    " elif you==\"rock\" and bot=='scissor':\n",
    "    you_point=you_point+1\n",
    "         \n",
    " print(\"you: \",you_point, '  -  ' ,you)\n",
    " print(\"bot: \",bot_point, '  -  ' ,bot)\n",
    "\n",
    " if you_point>=3 or bot_point>=3:\n",
    "   game_condition=False\n",
    "\n",
    "\n",
    "if you_point>bot_point:\n",
    " print(\"You win\")\n",
    "else:\n",
    " print(\"You loose\")\n",
    "\n",
    "\n",
    "\n",
    "print(\"you: \",you_point, '  -  ' ,you)\n",
    "print(\"bot: \",bot_point, '  -  ' ,bot)"
   ]
  }
 ],
 "metadata": {
  "kernelspec": {
   "display_name": "Python 3",
   "language": "python",
   "name": "python3"
  },
  "language_info": {
   "codemirror_mode": {
    "name": "ipython",
    "version": 3
   },
   "file_extension": ".py",
   "mimetype": "text/x-python",
   "name": "python",
   "nbconvert_exporter": "python",
   "pygments_lexer": "ipython3",
   "version": "3.12.4"
  }
 },
 "nbformat": 4,
 "nbformat_minor": 2
}
